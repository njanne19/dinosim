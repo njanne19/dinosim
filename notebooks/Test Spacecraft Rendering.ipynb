{
 "cells": [
  {
   "cell_type": "code",
   "execution_count": 1,
   "id": "9f41ba8f-46ae-4d97-ac68-914b4c39b5bd",
   "metadata": {},
   "outputs": [],
   "source": [
    "%load_ext autoreload\n",
    "%autoreload 2"
   ]
  },
  {
   "cell_type": "code",
   "execution_count": 2,
   "id": "b440ac0d-90ec-4fb8-ab3c-a30cda8dadb7",
   "metadata": {},
   "outputs": [],
   "source": [
    "import numpy as np \n",
    "from dinosim.spacecraft import DINO\n",
    "from dinosim.bodies import Planet"
   ]
  },
  {
   "cell_type": "code",
   "execution_count": 3,
   "id": "82f09cc9-6153-435e-83a4-6d1ff6a65bb4",
   "metadata": {},
   "outputs": [],
   "source": [
    "earth = Planet(radius = 5, name='earth')"
   ]
  },
  {
   "cell_type": "code",
   "execution_count": 4,
   "id": "f995885f-d9f4-4e26-b29a-e85590a46c72",
   "metadata": {},
   "outputs": [],
   "source": [
    "sat1 = DINO(name='sat1', orbiting_body=earth, altitude=20, angle_global=np.pi/2, pointing_angle=-np.pi/3)"
   ]
  },
  {
   "cell_type": "code",
   "execution_count": null,
   "id": "ebd7d167-32b8-484e-b43c-6f889b70e57b",
   "metadata": {},
   "outputs": [],
   "source": []
  }
 ],
 "metadata": {
  "kernelspec": {
   "display_name": "Python 3 (ipykernel)",
   "language": "python",
   "name": "python3"
  },
  "language_info": {
   "codemirror_mode": {
    "name": "ipython",
    "version": 3
   },
   "file_extension": ".py",
   "mimetype": "text/x-python",
   "name": "python",
   "nbconvert_exporter": "python",
   "pygments_lexer": "ipython3",
   "version": "3.10.10"
  }
 },
 "nbformat": 4,
 "nbformat_minor": 5
}
